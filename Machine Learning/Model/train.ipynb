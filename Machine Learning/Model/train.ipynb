{
  "cells": [
    {
      "cell_type": "markdown",
      "metadata": {
        "id": "hnga1fN8SSHx"
      },
      "source": [
        "#YOLO"
      ]
    },
    {
      "cell_type": "markdown",
      "source": [
        "Installing dependencies and initialize the architecture of the model. The architecture is a .yaml file modified for this specific task. The config.yaml file dictates the directory of the training and validation (and test) dataset."
      ],
      "metadata": {
        "id": "bMacFqVCa53I"
      }
    },
    {
      "cell_type": "code",
      "execution_count": null,
      "metadata": {
        "id": "J72DM_msO7mI"
      },
      "outputs": [],
      "source": [
        "%%capture\n",
        "pip install ultralytics"
      ]
    },
    {
      "cell_type": "code",
      "execution_count": null,
      "metadata": {
        "id": "rTmq0ZTPRSll",
        "colab": {
          "base_uri": "https://localhost:8080/"
        },
        "outputId": "1b9f16cf-224e-40b7-ea81-468b49d29db6"
      },
      "outputs": [
        {
          "output_type": "stream",
          "name": "stdout",
          "text": [
            "Requirement already satisfied: pyyaml in /usr/local/lib/python3.10/dist-packages (6.0.1)\n"
          ]
        }
      ],
      "source": [
        "pip install pyyaml"
      ]
    },
    {
      "cell_type": "code",
      "source": [
        "from google.colab import drive\n",
        "drive.mount('/content/drive')"
      ],
      "metadata": {
        "colab": {
          "base_uri": "https://localhost:8080/"
        },
        "id": "_djaXW2HW_iV",
        "outputId": "fdd5593e-5981-4cfa-d310-a3c5ab4c665b"
      },
      "execution_count": null,
      "outputs": [
        {
          "output_type": "stream",
          "name": "stdout",
          "text": [
            "Drive already mounted at /content/drive; to attempt to forcibly remount, call drive.mount(\"/content/drive\", force_remount=True).\n"
          ]
        }
      ]
    },
    {
      "cell_type": "code",
      "execution_count": null,
      "metadata": {
        "id": "MXd8j6GARLv5",
        "colab": {
          "base_uri": "https://localhost:8080/"
        },
        "outputId": "4131cd08-90b4-418b-99b3-bb2646594ebc"
      },
      "outputs": [
        {
          "output_type": "stream",
          "name": "stdout",
          "text": [
            "WARNING ⚠️ no model scale passed. Assuming scale='n'.\n"
          ]
        }
      ],
      "source": [
        "from ultralytics import YOLO\n",
        "\n",
        "# Load a model\n",
        "model = YOLO(\"yolov8_0.yaml\")  # build a new model from scratch\n",
        "#model = YOLO(\"yolov8n.pt\")  # load a pretrained model (recommended for training)\n"
      ]
    },
    {
      "cell_type": "code",
      "execution_count": null,
      "metadata": {
        "id": "YZ-9msmFPUCw"
      },
      "outputs": [],
      "source": [
        "model.train(data=\"config.yaml\", epochs=150, imgsz=640, degrees=30, flipud = 0.5, fliplr = 0.5, hsv_v=0.4, pretrained=False)  # train the model\n",
        "metrics = model.val()  # evaluate model performance on the validation set\n",
        "path = model.export(format=\"onnx\")  # export the model to ONNX format"
      ]
    }
  ],
  "metadata": {
    "colab": {
      "machine_shape": "hm",
      "provenance": [],
      "gpuType": "V100"
    },
    "kernelspec": {
      "display_name": "Python 3",
      "name": "python3"
    },
    "language_info": {
      "name": "python"
    },
    "accelerator": "GPU"
  },
  "nbformat": 4,
  "nbformat_minor": 0
}
